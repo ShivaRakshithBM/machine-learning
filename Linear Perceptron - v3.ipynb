{
 "cells": [
  {
   "cell_type": "code",
   "execution_count": 1,
   "metadata": {
    "collapsed": false
   },
   "outputs": [],
   "source": [
    "# Random to intialize random perceptron weights (if required)\n",
    "# Numpy for vectors,matrices and dot products\n",
    "import random as rd\n",
    "import numpy as np\n",
    "import pandas as pd\n",
    "import matplotlib.pyplot as plt\n",
    "from matplotlib import cm\n",
    "from mpl_toolkits.mplot3d import Axes3D\n",
    "\n",
    "%matplotlib inline  "
   ]
  },
  {
   "cell_type": "code",
   "execution_count": 239,
   "metadata": {
    "collapsed": false
   },
   "outputs": [],
   "source": [
    "\n",
    "\n",
    "#-------------------------------------------------------------------------------------------------------#\n",
    "# Defining a perceptron\n",
    "\n",
    "class linearPerceptron(object):\n",
    "    \n",
    "    def __init__(self, num_inputs, weight_vector = None):\n",
    "        # Defining the initial perceptron\n",
    "        self.num_inputs = num_inputs\n",
    "        if(weight_vector is None):\n",
    "            self.weights = [rd.random() for i in range(num_inputs)]\n",
    "        else:\n",
    "            if(len(weight_vector) != num_inputs):\n",
    "                raise Exception(\"Weight vector size invalid. Must be #Inputs + 1\")\n",
    "            else:\n",
    "                self.weights = weight_vector\n",
    "        self.weights = np.array(self.weights)\n",
    "        self.output = None\n",
    "        self.iterError = np.array([])\n",
    "        self.weightUpdates = None  \n",
    "        self.minError = None\n",
    "        self.runIters = 0\n",
    "        self.converged = 0\n",
    "    \n",
    "    def computePerceptronOutput(self, input_vector):\n",
    "        # Computes the output as a combination of inputs\n",
    "        if(input_vector is not np.array):\n",
    "            input_vector = np.array(input_vector)\n",
    "\n",
    "        if(self.weights.size == input_vector.size):   \n",
    "            self.output = np.dot(self.weights, input_vector)\n",
    "        else:\n",
    "            print \"Inputs provided is of invalid size\"\n",
    "                \n",
    "        return self.output\n",
    "    \n",
    "                \n",
    "    def computeError(self,input_matrix, target_vector, custom_weights = None):\n",
    "        # Compute errors in the current weight training\n",
    "        \n",
    "        nTrain = len(input_matrix)\n",
    "        oldWeights = self.weights\n",
    "        \n",
    "        if(custom_weights is not None):\n",
    "            if(len(custom_weights) != self.num_inputs):\n",
    "                raise Exception(\"Weight vector size invalid. Must be #Inputs\")\n",
    "            else:\n",
    "                self.weights = np.array(custom_weights)\n",
    "\n",
    "        outputVector = [self.computePerceptronOutput(input_vector) for input_vector in input_matrix]\n",
    "        \n",
    "        if(len(target_vector) != nTrain):\n",
    "            raise Exception(\"Training Vector provided is not of the same size as inputs\")\n",
    "\n",
    "        error_vector = np.subtract(target_vector,outputVector)\n",
    "        error_squared = [x * x for x in error_vector]\n",
    "        totalError = sum(error_squared) * 0.5\n",
    "        updateSize = np.dot(error_vector,input_matrix)\n",
    "        \n",
    "        self.weights = oldWeights\n",
    "        \n",
    "        return totalError,updateSize\n",
    "    \n",
    "    \n",
    "    def trainGradientDescent(self, input_matrix, target_vector, alpha = 0.01, nIter = 100, method = \"batch\", nsample = None):\n",
    "        \n",
    "        \n",
    "        # Batch Gradient Descent is performed on the linear Perceptron given\n",
    "        # the input matrix and a target vector to be learnt at learning Rate (alpha)\n",
    "        # The batch descent is by default set to run only 100 iterations\n",
    "        # Samples are picked every iteration to avoid gradient descent happening \n",
    "        # in the same direction every time\n",
    "            \n",
    "        if(method==\"batch\"):\n",
    "            print \"Training with Batch Gradient Descent....! Plz Wait..!\"\n",
    "\n",
    "            # Input matrix is number_of_inputs X no. of training examples\n",
    "\n",
    "            self.weightUpdates = np.array(self.weights,ndmin = 2)\n",
    "\n",
    "            nInput = self.num_inputs\n",
    "\n",
    "            self.minError,updateSizes = self.computeError(input_matrix = input_matrix,target_vector = target_vector)\n",
    "            self.iterError = np.append(self.iterError,self.minError)\n",
    "\n",
    "            for i in range(nIter):\n",
    "\n",
    "                totalError,updateSizes = self.computeError(input_matrix,target_vector)\n",
    "\n",
    "                deltaWeights = alpha * updateSizes\n",
    "\n",
    "                # UpdateWeights\n",
    "                oldWeights = self.weights\n",
    "                newWeights = np.add(self.weights,deltaWeights)\n",
    "                self.weights = newWeights\n",
    "\n",
    "                totalError,updateSizes = self.computeError(input_matrix,target_vector)\n",
    "\n",
    "                if(totalError >= self.minError):\n",
    "                    self.converged = 1\n",
    "                    self.runIters = i\n",
    "                    self.weights = oldWeights\n",
    "                    print \"Converged.....!\"\n",
    "                    print self.weights\n",
    "                    return\n",
    "                else:\n",
    "                    self.minError = totalError\n",
    "                    self.weights = newWeights\n",
    "                    self.weightUpdates = np.append(self.weightUpdates,[self.weights],axis = 0)\n",
    "                    self.iterError = np.append(self.iterError,self.minError)\n",
    "\n",
    "\n",
    "            print \"Ran out of iterations without converging......! Tough luck matey...!\"\n",
    "            print self.weights\n",
    "    \n",
    "        # For stochastic gradient descent\n",
    "        elif(method == \"stochastic\"):\n",
    "            \n",
    "            print \"Training with Stochastic Gradient Descent....! Plz Wait..!\" \n",
    "            \n",
    "            self.weightUpdates = np.array(self.weights,ndmin = 2)\n",
    "\n",
    "            nInput = self.num_inputs\n",
    "            nTrain = len(input_matrix)\n",
    "            \n",
    "            self.minError,updateSizes = self.computeError(input_matrix = input_matrix,target_vector = target_vector)\n",
    "            self.iterError = np.append(self.iterError,self.minError)\n",
    "            \n",
    "            oldWeights = self.weights\n",
    "            \n",
    "            # Run through iterations\n",
    "            for i in range(nIter):\n",
    "                \n",
    "                if(nsample is None):\n",
    "                    inputSubset = input_matrix\n",
    "                elif((nsample < nTrain)):\n",
    "                    sample_trn = np.random.randint(0,nTrain,nsample)\n",
    "                    inputSubset = input_matrix[sample_trn]\n",
    "                else:\n",
    "                    print \"Data type wrong size or invalid for sample size\"\n",
    "                    \n",
    "                # Run through all training examples\n",
    "                for j in range(len(inputSubset)):\n",
    "                    \n",
    "                    input_vector = input_matrix[j]\n",
    "                    current_output = target_vector[j]\n",
    "                    \n",
    "                    newWeights = self.weights\n",
    "                    \n",
    "                    self.computePerceptronOutput(input_vector)\n",
    "                    deltaWeights = alpha * (current_output - self.output) * input_vector\n",
    "\n",
    "                    newWeights = np.add(newWeights,deltaWeights)\n",
    "                    \n",
    "                    self.weights = newWeights\n",
    "\n",
    "                totalError,updateSizes = self.computeError(input_matrix,target_vector)\n",
    "\n",
    "                if(totalError > self.minError):\n",
    "                    self.converged = 1\n",
    "                    self.runIters = i\n",
    "                    self.weights = oldWeights\n",
    "                    self.minError = totalError\n",
    "                    # self.iterError = np.append(self.iterError,totalError)\n",
    "                    # self.weightUpdates = np.append(self.weightUpdates,[self.weights],axis = 0)\n",
    "                    print \"Converged.....!\"\n",
    "                    print self.weights\n",
    "                    return\n",
    "\n",
    "                else:\n",
    "                    self.minError = totalError\n",
    "                    self.weightUpdates = np.append(self.weightUpdates,[self.weights],axis = 0)\n",
    "                    self.iterError = np.append(self.iterError,self.minError)\n",
    "\n",
    "                    \n",
    "            print \"Ran out of iterations without converging......! Tough luck matey...!\"\n",
    "            print self.weights\n",
    "        \n",
    "        \n",
    "        else:\n",
    "            \n",
    "            print \"No valid method provided...! Must be either 'stochastic' or 'batch'\"\n",
    "#----------------------------------------------------------------------------------------------#"
   ]
  },
  {
   "cell_type": "code",
   "execution_count": 33,
   "metadata": {
    "collapsed": true
   },
   "outputs": [],
   "source": [
    "# Function plots the error surface currently. Will be extended to plot iteration errors for the model\n",
    "# Plan is to add the iteration errors for validation set as well\n",
    "def surfaceErrorPlot(linearPerceptronObject,input_matrix,target_vector,breaks = 200):\n",
    "    # Method prints all possible plots for the neural network\n",
    "    # Includes Error surface plots, Iteration errors\n",
    "    \n",
    "    lpTest = linearPerceptronObject\n",
    "    \n",
    "    print \"Output Plots using matplotlib\"\n",
    "    \n",
    "    # Creating mesh for plotting error surface\n",
    "    weightTest = [x * 0.01 for x in range(-breaks/2,breaks/2)]\n",
    "    w0,w1 = np.meshgrid(weightTest,weightTest)\n",
    "    fig = plt.figure()\n",
    "    ax = fig.gca(projection='3d')\n",
    "    customWeights = [[w0[0][i],w1[0][i]] for i in range(breaks)]\n",
    "    errorValues = [linearPerceptronObject.computeError(input_matrix,target_vector,custom_weights = x)[0] for x in customWeights]\n",
    "    surf = ax.plot_surface(w0,w1,errorValues, rstride=1, cstride=1, cmap=cm.coolwarm,\n",
    "                           linewidth=0, antialiased=False)\n",
    "    \n",
    "    plt.show()"
   ]
  },
  {
   "cell_type": "code",
   "execution_count": 254,
   "metadata": {
    "collapsed": true
   },
   "outputs": [],
   "source": [
    "def iterationErrorPlot(trainedPerceptron, testInput, testOutput):\n",
    "    \n",
    "    if(trainedPerceptron.weightUpdates is None):\n",
    "        print \"Perceptron untrained. Plz train\"\n",
    "        return\n",
    "    \n",
    "    testErrors = [trainedPerceptron.computeError(testInput, \n",
    "                                                 testOutput,\n",
    "                                                 custom_weights = x)[0] for x in trainedPerceptron.weightUpdates]\n",
    "    \n",
    "    plt.plot(trainedPerceptron.iterError,'r', testErrors, 'b')\n",
    "    plt.xlabel(\"Iterations\")\n",
    "    plt.ylabel(\"Errors\")"
   ]
  },
  {
   "cell_type": "code",
   "execution_count": 5,
   "metadata": {
    "collapsed": true
   },
   "outputs": [],
   "source": [
    " \n",
    "#-------------------------------------------------------------------------------------------------------#\n",
    "# Generate training examples to learn the function\n",
    "# x1 + 2 * x2 > 2\n",
    "\n",
    "# Generating random inputs to the perceptron and bifurcating into the train and test datasets\n",
    "nInputs = 250\n",
    "\n",
    "x1 = [rd.random() for i in range(nInputs)]\n",
    "meanx1 = np.mean(x1)\n",
    "sdx1 = np.std(x1)\n",
    "x1 = [round((x-meanx1)/sdx1,3) for x in x1]\n",
    "x1 = np.array(x1)\n",
    "\n",
    "x2 = [rd.random() for i in range(nInputs)]\n",
    "meanx2 = np.mean(x2)\n",
    "sdx2 = np.std(x2)\n",
    "x2 = [round((x-meanx2)/sdx2,3) for x in x2]\n",
    "x2 = np.array(x2)\n",
    "\n",
    "inputMatrix = []\n",
    "outputVector = []\n",
    "\n",
    "for i in range(nInputs):\n",
    "    inputMatrix.append([x1[i],x2[i]])\n",
    "    outputVector.append(1 if ((x1[i] + 2 * x2[i] - 2) > 0) else 0)\n",
    "    \n",
    "inputMatrix = np.array(inputMatrix)\n",
    "outputVector = np.array(outputVector)\n",
    "#--------------------------------------------------------------------------------------------------#"
   ]
  },
  {
   "cell_type": "code",
   "execution_count": 6,
   "metadata": {
    "collapsed": false
   },
   "outputs": [
    {
     "name": "stdout",
     "output_type": "stream",
     "text": [
      "185\n",
      "185\n",
      "65\n",
      "65\n"
     ]
    }
   ],
   "source": [
    "# Train and test datasets\n",
    "trn = np.random.randn(250) < 0.8\n",
    "\n",
    "train = inputMatrix[trn]\n",
    "trainOutput = outputVector[trn]\n",
    "print len(train)\n",
    "print len(trainOutput)\n",
    "\n",
    "test = inputMatrix[~trn]\n",
    "testOutput = outputVector[~trn]\n",
    "print len(test)\n",
    "print len(testOutput)"
   ]
  },
  {
   "cell_type": "code",
   "execution_count": 216,
   "metadata": {
    "collapsed": false
   },
   "outputs": [
    {
     "name": "stdout",
     "output_type": "stream",
     "text": [
      "Training with Batch Gradient Descent....! Plz Wait..!\n",
      "Converged.....!\n",
      "[ 0.13969101  0.26466447]\n"
     ]
    }
   ],
   "source": [
    "#--------------------------------------------------------------------------------------------------#\n",
    "\n",
    "lp1 = linearPerceptron(num_inputs = 2)\n",
    "lp1.trainGradientDescent(input_matrix=train,target_vector = trainOutput,alpha = 0.001,nIter = 100,method = \"batch\")"
   ]
  },
  {
   "cell_type": "code",
   "execution_count": 217,
   "metadata": {
    "collapsed": false
   },
   "outputs": [
    {
     "name": "stdout",
     "output_type": "stream",
     "text": [
      "Training with Stochastic Gradient Descent....! Plz Wait..!\n",
      "Converged.....!\n",
      "[ 0.13115789  0.31865302]\n"
     ]
    }
   ],
   "source": [
    "lp2 = linearPerceptron(num_inputs=2)\n",
    "lp2.trainGradientDescent(input_matrix=train,target_vector = trainOutput,alpha = 0.001,nIter = 100,method = \"stochastic\")"
   ]
  },
  {
   "cell_type": "code",
   "execution_count": 227,
   "metadata": {
    "collapsed": false
   },
   "outputs": [
    {
     "name": "stdout",
     "output_type": "stream",
     "text": [
      "Training with Stochastic Gradient Descent....! Plz Wait..!\n",
      "Converged.....!\n",
      "[ 0.72295151  0.37017374]\n"
     ]
    }
   ],
   "source": [
    "lp3 = linearPerceptron(num_inputs=2)\n",
    "lp3.trainGradientDescent(input_matrix=train,target_vector = trainOutput,alpha = 0.001,nIter = 1000,method = \"stochastic\",\n",
    "                         nsample = 150)"
   ]
  },
  {
   "cell_type": "code",
   "execution_count": 228,
   "metadata": {
    "collapsed": false
   },
   "outputs": [
    {
     "name": "stdout",
     "output_type": "stream",
     "text": [
      "11.0728122055\n",
      "11.0728793537\n",
      "11.0772864704\n"
     ]
    }
   ],
   "source": [
    "print lp1.minError\n",
    "print lp2.minError\n",
    "print lp3.minError"
   ]
  },
  {
   "cell_type": "code",
   "execution_count": 34,
   "metadata": {
    "collapsed": false,
    "scrolled": false
   },
   "outputs": [
    {
     "name": "stdout",
     "output_type": "stream",
     "text": [
      "Output Plots using matplotlib\n"
     ]
    },
    {
     "data": {
      "image/png": "[encoded data removed]",
      "text/plain": [
       "<matplotlib.figure.Figure at 0x7f9784d8bed0>"
      ]
     },
     "metadata": {},
     "output_type": "display_data"
    }
   ],
   "source": [
    "# Plots with 400 breaks. Breaks with 500 or more might slow the system down\n",
    "surfaceErrorPlot(lp1,input_matrix = train, target_vector=trainOutput, breaks = 400)"
   ]
  },
  {
   "cell_type": "code",
   "execution_count": 255,
   "metadata": {
    "collapsed": false
   },
   "outputs": [
    {
     "data": {
      "image/png": "[encoded data removed]",
      "text/plain": [
       "<matplotlib.figure.Figure at 0x7f977b8fc790>"
      ]
     },
     "metadata": {},
     "output_type": "display_data"
    }
   ],
   "source": [
    "iterationErrorPlot(trainedPerceptron=lp1,testInput=test,testOutput=testOutput)"
   ]
  }
 ],
 "metadata": {
  "kernelspec": {
   "display_name": "Python 2",
   "language": "python",
   "name": "python2"
  },
  "language_info": {
   "codemirror_mode": {
    "name": "ipython",
    "version": 2
   },
   "file_extension": ".py",
   "mimetype": "text/x-python",
   "name": "python",
   "nbconvert_exporter": "python",
   "pygments_lexer": "ipython2",
   "version": "2.7.12"
  }
 },
 "nbformat": 4,
 "nbformat_minor": 2
}
