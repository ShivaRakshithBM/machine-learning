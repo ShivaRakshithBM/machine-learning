{
 "cells": [
  {
   "cell_type": "code",
   "execution_count": 1,
   "metadata": {
    "collapsed": true
   },
   "outputs": [],
   "source": [
    "# Random to intialize random perceptron weights (if required)\n",
    "# Numpy for vectors,matrices and dot products\n",
    "import random as rd\n",
    "import numpy as np"
   ]
  },
  {
   "cell_type": "code",
   "execution_count": 2,
   "metadata": {
    "collapsed": true
   },
   "outputs": [],
   "source": [
    "\n",
    "\n",
    "# Defining a perceptron\n",
    "\n",
    "class perceptron(object):\n",
    "    \n",
    "    def __init__(self, num_inputs, weight_vector = None):\n",
    "        # Defining the initial perceptron\n",
    "        self.num_inputs = num_inputs\n",
    "        weight_count = self.num_inputs + 1\n",
    "        if(weight_vector == None):\n",
    "            self.weights = [random.random() for i in range(weight_count)]\n",
    "        else:\n",
    "            if(len(weight_vector) != weight_count):\n",
    "                raise Exception(\"Weight vector size invalid. Must be #Inputs + 1\")\n",
    "            else:\n",
    "                self.weights = weight_vector\n",
    "        self.weights = np.array(self.weights)\n",
    "        self.output = None\n",
    "    \n",
    "    def computePerceptronOutput(self, input_vector):\n",
    "        # Computes the output as a combination of inputs\n",
    "        if(type(input_vector) is np.array):\n",
    "            print \"Input not a numpy array\"\n",
    "        else:\n",
    "            if((self.weights.size - 1) == input_vector.size):   \n",
    "                output_signal = np.dot(self.weights[1:], input_vector) + self.weights[0]\n",
    "                self.output = 1 if (output_signal > 0) else 0\n",
    "            else:\n",
    "                print \"Inputs provided is of invalide size\""
   ]
  },
  {
   "cell_type": "code",
   "execution_count": 7,
   "metadata": {
    "collapsed": false
   },
   "outputs": [
    {
     "name": "stdout",
     "output_type": "stream",
     "text": [
      "0\n",
      "0\n",
      "0\n",
      "1\n"
     ]
    }
   ],
   "source": [
    "# AND function can be simulated using w0 = -0.8, w1=w2 =0.5\n",
    "\n",
    "and_perceptron = perceptron(num_inputs = 2, weight_vector = [-0.8,0.5,0.5])\n",
    "\n",
    "# Testing all input combinations\n",
    "and_perceptron.computePerceptronOutput(np.array([0,0]))\n",
    "print and_perceptron.output\n",
    "and_perceptron.computePerceptronOutput(np.array([0,1]))\n",
    "print and_perceptron.output\n",
    "and_perceptron.computePerceptronOutput(np.array([1,0]))\n",
    "print and_perceptron.output\n",
    "and_perceptron.computePerceptronOutput(np.array([1,1]))\n",
    "print and_perceptron.output"
   ]
  },
  {
   "cell_type": "code",
   "execution_count": 8,
   "metadata": {
    "collapsed": false
   },
   "outputs": [
    {
     "name": "stdout",
     "output_type": "stream",
     "text": [
      "0\n",
      "1\n",
      "1\n",
      "1\n"
     ]
    }
   ],
   "source": [
    "# -------------------------------------------------------------------------------------------------------------#\n",
    "# OR function can be simulated using w0 = -0.3, w1=w2 =0.5\n",
    "\n",
    "or_perceptron = perceptron(num_inputs = 2, weight_vector = [-0.3,0.5,0.5])\n",
    "\n",
    "# Testing all input combinations\n",
    "or_perceptron.computePerceptronOutput(np.array([0,0]))\n",
    "print or_perceptron.output\n",
    "or_perceptron.computePerceptronOutput(np.array([0,1]))\n",
    "print or_perceptron.output\n",
    "or_perceptron.computePerceptronOutput(np.array([1,0]))\n",
    "print or_perceptron.output\n",
    "or_perceptron.computePerceptronOutput(np.array([1,1]))\n",
    "print or_perceptron.output"
   ]
  },
  {
   "cell_type": "code",
   "execution_count": 9,
   "metadata": {
    "collapsed": false
   },
   "outputs": [
    {
     "name": "stdout",
     "output_type": "stream",
     "text": [
      "0\n",
      "0\n",
      "1\n",
      "0\n"
     ]
    }
   ],
   "source": [
    "# Implementing Perceptrons to learn other functions (A ^ ~B)\n",
    "custom_perceptron = perceptron(num_inputs=2, weight_vector=[-0.4,0.5,-1])\n",
    "\n",
    "custom_perceptron.computePerceptronOutput(np.array([0,0]))\n",
    "print custom_perceptron.output\n",
    "custom_perceptron.computePerceptronOutput(np.array([0,1]))\n",
    "print custom_perceptron.output\n",
    "custom_perceptron.computePerceptronOutput(np.array([1,0]))\n",
    "print custom_perceptron.output\n",
    "custom_perceptron.computePerceptronOutput(np.array([1,1]))\n",
    "print custom_perceptron.output"
   ]
  },
  {
   "cell_type": "code",
   "execution_count": 6,
   "metadata": {
    "collapsed": false
   },
   "outputs": [
    {
     "name": "stdout",
     "output_type": "stream",
     "text": [
      "0\n",
      "1\n",
      "1\n",
      "0\n"
     ]
    }
   ],
   "source": [
    "# Implment XOR function using the custom perceptron defined above\n",
    "xor_lyr11 = perceptron(num_inputs=2, weight_vector=[-0.4,0.5,-1])\n",
    "xor_lyr12 = perceptron(num_inputs=2, weight_vector=[-0.4,-1,0.5])\n",
    "xor_lyr21 = perceptron(num_inputs = 2, weight_vector = [-0.3,0.5,0.5])\n",
    "\n",
    "xor_lyr11.computePerceptronOutput(np.array([0,0]))\n",
    "xor_lyr12.computePerceptronOutput(np.array([0,0]))\n",
    "xor_lyr21.computePerceptronOutput(np.array([xor_lyr11.output, xor_lyr12.output]))\n",
    "print xor_lyr21.output\n",
    "\n",
    "xor_lyr11.computePerceptronOutput(np.array([0,1]))\n",
    "xor_lyr12.computePerceptronOutput(np.array([0,1]))\n",
    "xor_lyr21.computePerceptronOutput(np.array([xor_lyr11.output, xor_lyr12.output]))\n",
    "print xor_lyr21.output\n",
    "\n",
    "xor_lyr11.computePerceptronOutput(np.array([1,0]))\n",
    "xor_lyr12.computePerceptronOutput(np.array([1,0]))\n",
    "xor_lyr21.computePerceptronOutput(np.array([xor_lyr11.output, xor_lyr12.output]))\n",
    "print xor_lyr21.output\n",
    "\n",
    "xor_lyr11.computePerceptronOutput(np.array([1,1]))\n",
    "xor_lyr12.computePerceptronOutput(np.array([1,1]))\n",
    "xor_lyr21.computePerceptronOutput(np.array([xor_lyr11.output, xor_lyr12.output]))\n",
    "print xor_lyr21.output"
   ]
  }
 ],
 "metadata": {
  "kernelspec": {
   "display_name": "Python 2",
   "language": "python",
   "name": "python2"
  },
  "language_info": {
   "codemirror_mode": {
    "name": "ipython",
    "version": 2
   },
   "file_extension": ".py",
   "mimetype": "text/x-python",
   "name": "python",
   "nbconvert_exporter": "python",
   "pygments_lexer": "ipython2",
   "version": "2.7.12"
  }
 },
 "nbformat": 4,
 "nbformat_minor": 2
}
