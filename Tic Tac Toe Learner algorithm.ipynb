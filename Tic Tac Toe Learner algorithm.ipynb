{
 "cells": [
  {
   "cell_type": "markdown",
   "metadata": {},
   "source": [
    "# Tic Tac Toe Learner"
   ]
  },
  {
   "cell_type": "markdown",
   "metadata": {},
   "source": [
    "Defining a tic tac toe game. It has a tic tac toe board, 2 players who either place X or O\n",
    "The match is won when either X or O places 3 tokes in a row\n",
    "The game object accepts a move from each player and places it in the location specified,\n",
    "checks for winning state. If won, it returns the winning player name. Else, it continues\n",
    "with the next round till winning state is obtained"
   ]
  },
  {
   "cell_type": "code",
   "execution_count": 16,
   "metadata": {
    "collapsed": true
   },
   "outputs": [],
   "source": [
    "# Defining the tic tac toe game object\n",
    "class tictactoeGame:\n",
    "    \n",
    "    def __init__(self, board, player1, player2):\n",
    "        self.board = board\n",
    "        self.player1 = player1\n",
    "        self.player2 = player2\n",
    "        self.winState = 0\n",
    "        self.watchDog = 1\n",
    "        self.winConditions = [\n",
    "            # Horizontal Win states\n",
    "            (0,1,2),(3,4,5),(6,7,8),\n",
    "            # Vertical Win States\n",
    "            (0,3,6),(1,4,7),(2,5,8),\n",
    "            # Diagonal Win States\n",
    "            (0,4,8),(2,4,6)\n",
    "        ]\n",
    "        self.winner = None\n",
    "        \n",
    "    def runGame(self):\n",
    "        if(self.player1.playerType == \"X\"):\n",
    "    \n",
    "            while(not(self.winState == 1) and self.watchDog < 10):\n",
    "                move1 = self.player1.chooseMove(self.board)\n",
    "                self.board.update(self.player1.playerType, move1)\n",
    "                self.checkWinState()\n",
    "                move2 = self.player2.chooseMove(self.board)\n",
    "                self.board.update(self.player1.playerType, move2)\n",
    "                self.checkWinState()\n",
    "                self.watchDog = self.watchDog + 1\n",
    "                print self.watchDog\n",
    "        \n",
    "        else:\n",
    "            \n",
    "            while(not(self.winState == 1) and self.watchDog < 10):\n",
    "                move2 = self.player2.chooseMove(self.board)\n",
    "                self.board.update(self.player1.playerType, move2)\n",
    "                self.checkWinState()\n",
    "                move1 = self.player1.chooseMove(self.board)\n",
    "                self.board.update(self.player1.playerType, move1)\n",
    "                self.checkWinState()\n",
    "                self.watchDog = self.watchDog + 1\n",
    "                print self.watchDog\n",
    "        \n",
    "        print \"Game Ends...!\"\n",
    "        \n",
    "        if(self.winner == None):\n",
    "            print \"Its a draw..!\"\n",
    "        else:\n",
    "            print self.winner.name + \" Wins... !\"\n",
    "        \n",
    "    # Checking for winning state involves checking the state at the end of every move\n",
    "    # 3 consecutive X or Os either horizontally, diagonally or vertically ends game\n",
    "    def checkWinState(self):\n",
    "        # Setting empty locations for Xs and Os\n",
    "        \n",
    "        XLocations = []\n",
    "        OLocations = []\n",
    "        for i in range(8):\n",
    "            if(self.board.boxInputs[i] == \"X\"):\n",
    "                XLocations.append(i)\n",
    "            if(self.board.boxInputs[i] == \"O\"):\n",
    "                OLocations.append(i)\n",
    "        \n",
    "        for condition in self.winConditions:\n",
    "            if(all(x in XLocations for x in condition)):\n",
    "                self.winState = 1\n",
    "                if(self.player1.playerType == \"X\"):\n",
    "                    self.winner = self.player1\n",
    "                else:\n",
    "                    self.winner = self.player2\n",
    "            elif(all(x in OLocations for x in condition)):\n",
    "                self.winState = 1\n",
    "                if(self.player2.playerType == \"O\"):\n",
    "                    self.winner = self.player2\n",
    "                else:\n",
    "                    self.winner = self.player1\n",
    "            return\n",
    "        \n",
    "        if(self.winState == 0):\n",
    "            if(all(x == \"\" for x in self.board.boxInputs)):\n",
    "                return\n",
    "            else:\n",
    "                self.winState = 1\n",
    "                self.Winner = None\n",
    "                return"
   ]
  },
  {
   "cell_type": "code",
   "execution_count": 11,
   "metadata": {
    "collapsed": true
   },
   "outputs": [],
   "source": [
    "# Defining a tic tac toe board\n",
    "class tictactoeBoard:\n",
    "    \n",
    "    def __init__(self):\n",
    "        self.boxes = 9\n",
    "        self.boxInputs = [\"\" for i in range(8)]\n",
    "        \n",
    "    def update(self, playerType, move):\n",
    "        self.boxInputs[move] = playerType"
   ]
  },
  {
   "cell_type": "markdown",
   "metadata": {},
   "source": [
    "Next, we define a generic tictactoe player that takes in a type (X/O) and a name to rep"
   ]
  },
  {
   "cell_type": "code",
   "execution_count": 12,
   "metadata": {
    "collapsed": true
   },
   "outputs": [],
   "source": [
    "# Defining a tic tac toe player. The player chooses its moves and places an X or O depending on the type of player\n",
    "class tictactoePlayer:\n",
    "    \n",
    "    def __init__(self, playerType, name = None):\n",
    "        \n",
    "        if(not(len(playerType) > 1) and not(playerType not in (\"X\",\"O\"))):\n",
    "            self.playerType = playerType\n",
    "        else: \n",
    "            raise Exception(\"Not a valid type for the player. Enter either X or O\")\n",
    "            \n",
    "        if(not(name == None)):\n",
    "            self.name = name\n",
    "        else:\n",
    "            self.name = \"Player \" + self.playerType\n",
    "        \n",
    "    def chooseMove(self,boardState):\n",
    "        print \"Me name \" + self.name\n",
    "        print \"Me learn! Me Play\"\n",
    "        return 1"
   ]
  },
  {
   "cell_type": "code",
   "execution_count": 17,
   "metadata": {
    "collapsed": false
   },
   "outputs": [],
   "source": [
    "newTicTac = tictactoeBoard()\n",
    "p1 = tictactoePlayer(name=\"Boss\",playerType=\"X\")\n",
    "p2 = tictactoePlayer(name = \"Dude\",playerType=\"O\")\n",
    "newGame = tictactoeGame(board=newTicTac,player1=p1,player2=p2)"
   ]
  },
  {
   "cell_type": "code",
   "execution_count": 19,
   "metadata": {
    "collapsed": false
   },
   "outputs": [
    {
     "name": "stdout",
     "output_type": "stream",
     "text": [
      "Me name Boss\n",
      "Me learn! Me Play\n",
      "Me name Dude\n",
      "Me learn! Me Play\n",
      "2\n",
      "Me name Boss\n",
      "Me learn! Me Play\n",
      "Me name Dude\n",
      "Me learn! Me Play\n",
      "3\n",
      "Me name Boss\n",
      "Me learn! Me Play\n",
      "Me name Dude\n",
      "Me learn! Me Play\n",
      "4\n",
      "Me name Boss\n",
      "Me learn! Me Play\n",
      "Me name Dude\n",
      "Me learn! Me Play\n",
      "5\n",
      "Me name Boss\n",
      "Me learn! Me Play\n",
      "Me name Dude\n",
      "Me learn! Me Play\n",
      "6\n",
      "Me name Boss\n",
      "Me learn! Me Play\n",
      "Me name Dude\n",
      "Me learn! Me Play\n",
      "7\n",
      "Me name Boss\n",
      "Me learn! Me Play\n",
      "Me name Dude\n",
      "Me learn! Me Play\n",
      "8\n",
      "Me name Boss\n",
      "Me learn! Me Play\n",
      "Me name Dude\n",
      "Me learn! Me Play\n",
      "9\n",
      "Me name Boss\n",
      "Me learn! Me Play\n",
      "Me name Dude\n",
      "Me learn! Me Play\n",
      "10\n",
      "Game Ends...!\n",
      "Its a draw..!\n"
     ]
    }
   ],
   "source": [
    "newGame.runGame()"
   ]
  }
 ],
 "metadata": {
  "kernelspec": {
   "display_name": "Python 2",
   "language": "python2",
   "name": "python2"
  },
  "language_info": {
   "codemirror_mode": {
    "name": "ipython",
    "version": 2
   },
   "file_extension": ".py",
   "mimetype": "text/x-python",
   "name": "python",
   "nbconvert_exporter": "python",
   "pygments_lexer": "ipython2",
   "version": "2.7.12"
  }
 },
 "nbformat": 4,
 "nbformat_minor": 0
}
