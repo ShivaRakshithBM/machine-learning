{
 "cells": [
  {
   "cell_type": "code",
   "execution_count": 1,
   "metadata": {
    "collapsed": true
   },
   "outputs": [],
   "source": [
    "# Random to intialize random perceptron weights (if required)\n",
    "# Numpy for vectors,matrices and dot products\n",
    "import random as rd\n",
    "import numpy as np"
   ]
  },
  {
   "cell_type": "code",
   "execution_count": 2,
   "metadata": {
    "collapsed": true
   },
   "outputs": [],
   "source": [
    "\n",
    "\n",
    "# Defining a perceptron\n",
    "\n",
    "class linearPerceptron(object):\n",
    "    \n",
    "    def __init__(self, num_inputs, weight_vector = None):\n",
    "        # Defining the initial perceptron\n",
    "        self.num_inputs = num_inputs\n",
    "        if(weight_vector == None):\n",
    "            self.weights = [random.random() for i in range(num_inputs)]\n",
    "        else:\n",
    "            if(len(weight_vector) != num_inputs):\n",
    "                raise Exception(\"Weight vector size invalid. Must be #Inputs + 1\")\n",
    "            else:\n",
    "                self.weights = weight_vector\n",
    "        self.weights = np.array(self.weights)\n",
    "        self.output = None\n",
    "    \n",
    "    def computePerceptronOutput(self, input_vector):\n",
    "        # Computes the output as a combination of inputs\n",
    "        if(type(input_vector) is np.array):\n",
    "            print \"Input not a numpy array\"\n",
    "        else:\n",
    "            if((self.weights.size) == input_vector.size):   \n",
    "                output_signal = np.dot(self.weights, input_vector)\n",
    "            else:\n",
    "                print \"Inputs provided is of invalide size\""
   ]
  }
 ],
 "metadata": {
  "kernelspec": {
   "display_name": "Python 2",
   "language": "python",
   "name": "python2"
  },
  "language_info": {
   "codemirror_mode": {
    "name": "ipython",
    "version": 2
   },
   "file_extension": ".py",
   "mimetype": "text/x-python",
   "name": "python",
   "nbconvert_exporter": "python",
   "pygments_lexer": "ipython2",
   "version": "2.7.12"
  }
 },
 "nbformat": 4,
 "nbformat_minor": 2
}
