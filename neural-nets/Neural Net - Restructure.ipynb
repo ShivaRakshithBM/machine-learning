{
 "cells": [
  {
   "cell_type": "code",
   "execution_count": 111,
   "metadata": {
    "collapsed": true
   },
   "outputs": [],
   "source": [
    "# Libraries required\n",
    "import numpy as np\n",
    "import random as rd\n",
    "from matplotlib import pyplot as plt\n",
    "from mnist import MNIST as mn\n",
    "import time\n",
    "from PIL import Image\n",
    "\n",
    "%matplotlib inline"
   ]
  },
  {
   "cell_type": "code",
   "execution_count": 135,
   "metadata": {
    "collapsed": true
   },
   "outputs": [],
   "source": [
    "def dataCenters(inputMatrix):\n",
    "    \n",
    "    \"\"\"Center mean of each feature to 0\"\"\"\n",
    "    # (x - mu)/sigma. Data is now centered at 0\n",
    "    \n",
    "    rows,columns = inputMatrix.shape\n",
    "    \n",
    "    # Calculate mean and variance for each input feature\n",
    "    variableMeans = np.mean(inputMatrix, axis = 0).reshape(1,columns)\n",
    "    variableSD = np.std(inputMatrix, axis = 0).reshape(1,columns)\n",
    "    \n",
    "    return variableMeans, variableSD"
   ]
  },
  {
   "cell_type": "code",
   "execution_count": 113,
   "metadata": {
    "collapsed": true
   },
   "outputs": [],
   "source": [
    "# Lookup table of activation functions and derivatives\n",
    "actLookup = {\"sigmoid\":lambda x: 1/(1 + np.exp(-1 * x)),\n",
    "             \"tanh\":lambda x: np.tanh(x),\n",
    "            \"relu\": lambda x: np.maximum(0,x)}\n",
    "\n",
    "derivativeLookup = {\"sigmoid\": lambda x: x * (1.-x),\n",
    "               \"tanh\": lambda x: 1. - (np.tanh(x) ** 2),\n",
    "              \"relu\": lambda x: np.ceil(x.clip(0,1))}\n",
    "\n",
    "# Weight Initialization strategy\n",
    "# Random multiplies the initializations by a small number\n",
    "# Xavier 1/sqrt(numInputs)\n",
    "# For relu's, initalization is as recommended by He et. al(2015)\n",
    "weightLookup = {\"random\":lambda x:0.01,\n",
    "               \"xavier\":lambda x:1./np.sqrt(x),\n",
    "               \"he.et.al\":lambda x:np.sqrt(2./x)}\n",
    "\n",
    "# Regularization error component,\n",
    "# 0 if none, sum(x^2) if L2 and sum(|x|) if L1\n",
    "regLookup = {\"none\":lambda x: 0,\n",
    "            \"l2\": lambda x: 0.5 * (x ** 2).sum(),\n",
    "            \"l1\" : lambda x:sum(abs(x)),\n",
    "            \"l1+l2\":lambda x: 0.5 * (x ** 2).sum() + sum(abs(x))}\n",
    "\n",
    "# Derivatives of regularization terms\n",
    "regDerivLookup = {\"none\": lambda x:0,\n",
    "                \"l2\": lambda x: x,\n",
    "                \"l1\": lambda x: 1,\n",
    "                 \"l1+l2\":lambda x: x + 1.}\n",
    "\n",
    "# Momentum rate update\n",
    "momentumLookup = {\"none\":0,\n",
    "                  \"momentum\":lambda x:1,\n",
    "                  \"nag\": lambda x: (1+x)}"
   ]
  },
  {
   "cell_type": "code",
   "execution_count": 114,
   "metadata": {
    "collapsed": true
   },
   "outputs": [],
   "source": [
    "class linearLayer(object):\n",
    "    # A neural net layer with n neurons as defined by the user and an activation function for the layer\n",
    "    # Init: Creates a new linear layer with weight init method, \n",
    "    # layer size and number of inputs as inputs\n",
    "    # Forward propagation method: Dot product of input and weights\n",
    "    # Backward propagation: Dot product of delta from next layer with weights\n",
    "    # Weight update: Based on the per input dot product of the inputs and weights, \n",
    "    # weight gradient is calculated and Adam is used as learning method\n",
    "    \n",
    "    def __init__(self,numInputs, layerSize, weightInit = \"random\"):\n",
    "    \n",
    "        # Size of the layer and the number of inputs\n",
    "        self.layerSize = layerSize\n",
    "\n",
    "        # Incorporating the bias neuron\n",
    "        self.numInputs = numInputs + 1\n",
    "        self.inputMatrix = None\n",
    "        \n",
    "        # Numpy matrix of weights randomly initialized\n",
    "        # Seed is set to ensure repeatability of weight initializations and hence convergence and outputs\n",
    "        np.random.seed(seed=10000)\n",
    "        self.weights = np.array(np.random.randn(self.layerSize,self.numInputs)) * \\\n",
    "        weightLookup[weightInit](self.numInputs)\n",
    "                \n",
    "        # Init backward propagation  and learning values (only Adam) for this layer\n",
    "        self.delta = None\n",
    "        self.m = np.zeros(self.weights.shape)\n",
    "        self.velocity = np.zeros(self.weights.shape)\n",
    "               \n",
    "        \n",
    "    # Defining the forward function to the layer\n",
    "    def forward(self, inputMatrix):\n",
    "        \"\"\"Forward() forward propagates the inputs to a layer\"\"\"\n",
    "        \n",
    "        # Convert to numpy array if not passed as a numpy array\n",
    "        if(not(isinstance(inputMatrix,np.ndarray))):\n",
    "            inputMatrix = np.array(inputMatrix)\n",
    "        \n",
    "        # Get input matrix shape (m x n)\n",
    "        rows, columns = inputMatrix.shape\n",
    "        \n",
    "        # Dot product of input matrix (with extra 1s for the bias neuron) with the weight matrix\n",
    "        inputPadded = np.append(np.ones(rows).reshape(rows,1), inputMatrix, axis = 1)\n",
    "        self.inputMatrix = inputPadded\n",
    "        \n",
    "        # Forward propagation is dot product of weights and input values\n",
    "        self.output = np.dot(inputPadded, self.weights.T)\n",
    "        return self.output\n",
    "        \n",
    "    # Defining the backward propagation function\n",
    "    def backward(self, delta):\n",
    "        \"\"\"Backward takes the delta from next layer and passes it on the previous layer\"\"\"        \n",
    "        \n",
    "        # Local copy of delta\n",
    "        self.delta = delta\n",
    "        \n",
    "        # Delta to pass on to preceding layer has to be \n",
    "        # matrix multiplication of these values by the weight matrix\n",
    "        weightMatrix = self.weights[:,1:]\n",
    "        \n",
    "        # Delta passed back is the dot product of weights and deltas by \n",
    "        deltaBack = self.delta.dot(weightMatrix)\n",
    "        return deltaBack\n",
    "    \n",
    "    # Adam only update since it is the latest learning technique\n",
    "    def updateWeights(self, learnRate,\n",
    "                      regularize = \"none\", lambdaReg = 0.01,\n",
    "                      beta1 = 0.9, beta2 = 0.999, eps = 1e-8, t = 1):\n",
    "        \"\"\"updateWeights() uses the inputs and the delta stored in each layer after forward\n",
    "        and backward propagation to derive the weight update rule\"\"\"\n",
    "        \n",
    "        # Depending on the Lookup \n",
    "        regDeriv = regDerivLookup[regularize]\n",
    "        \n",
    "        # The udpate rule for each element in the matrix is given by\n",
    "        # wi = wi + sum_over_instances(delta for neuron * input i to neuron * learning rated)\n",
    "        # Compute the weight updates for every data point and then add those updates\n",
    "        rows,columns = self.inputMatrix.shape\n",
    "        stepGradient = -1. * np.dot(self.inputMatrix.T,self.delta).T * (1/np.float(rows))\n",
    "        \n",
    "        # Regularization if applicable\n",
    "        stepGradient = np.add(stepGradient, lambdaReg * regDeriv(self.weights))\n",
    "        \n",
    "        # First and second moments for Adam\n",
    "        self.m = beta1 * self.m + (1. - beta1) * stepGradient\n",
    "        self.velocity = beta2 * self.velocity + (1. - beta2) * (stepGradient ** 2)\n",
    "\n",
    "        # Bias correction for Adam. THIS DOES NOT GET CARRIED OVER TO THE NEXT ITERATION\n",
    "        biasM = self.m/(1. - beta1 ** t)\n",
    "        biasVelocity = self.velocity/(1. - beta2 ** t)\n",
    "    \n",
    "        # Final Weight updates using Adam\n",
    "        self.weights = np.add(self.weights, -learnRate * biasM / (np.sqrt(biasVelocity) + eps))"
   ]
  },
  {
   "cell_type": "code",
   "execution_count": 115,
   "metadata": {
    "collapsed": true
   },
   "outputs": [],
   "source": [
    "class activationLayer(object):\n",
    "    # A neural net activation layer\n",
    "    # It has the same methods as a linear layer but no weight updates are done on this layer\n",
    "    # Forward only propagates inputs with activations performed on them\n",
    "    # Backward propagates incoming delta by differentiating\n",
    "    # d(activation) * delta by element\n",
    "    \n",
    "    def __init__(self, actFun = \"sigmoid\"):\n",
    "\n",
    "        # Activation function\n",
    "        self.actFun = actLookup[actFun]\n",
    "        self.actDeriv = derivativeLookup[actFun]\n",
    "        \n",
    "    # Forward propagation is just activation of inputs\n",
    "    def forward(self, inputMatrix):\n",
    "        \"\"\"Forward propagation is just passing through activation function\"\"\"\n",
    "        \n",
    "        # Propagation of inputs through activation\n",
    "        # Saving inputs is not required since this layer \n",
    "        # does not have any input related weight updates\n",
    "        self.output = self.actFun(inputMatrix)\n",
    "        return self.output\n",
    "    \n",
    "    # Backward propagation is differential of inputs and delta from next layer\n",
    "    def backward(self, delta):\n",
    "        \"\"\"Backward propagation multiplies delta from next layer with derivative\"\"\"\n",
    "        \n",
    "        # Delta for this layer is multiplication of outputs with delta\n",
    "        return np.multiply(self.actDeriv(self.output), delta)\n",
    "    \n",
    "    def updateWeights(self, learnRate,\n",
    "                      regularize = \"none\", lambdaReg = 0.01,\n",
    "                      beta1 = 0.9, beta2 = 0.999, eps = 1e-8, t = 1):\n",
    "        \"\"\"Do nothing\"\"\"\n",
    "        \n",
    "        # Does nothing\n",
    "        return"
   ]
  },
  {
   "cell_type": "code",
   "execution_count": 116,
   "metadata": {
    "collapsed": false
   },
   "outputs": [],
   "source": [
    "class dropoutLayer(object):\n",
    "    # Dropout layer for neural nets\n",
    "    # It creates a binary mask to drop certain outputs from the previous layer\n",
    "    # Forward propagation is multiplication of each element of layer input\n",
    "    # with the binary mask created\n",
    "    # Backward propagation is delta multiplied by the binary mask and passed back\n",
    "    \n",
    "    def __init__(self, layerSize, p = 0.5):\n",
    "        \n",
    "        # p for binary and layer size are saved\n",
    "        self.p = p\n",
    "        self.layerSize = layerSize\n",
    "        \n",
    "    # Forward propagation is applying binary mask to the inputs\n",
    "    def forward(self, inputMatrix):\n",
    "        \n",
    "        # Create binary mask at every epoch\n",
    "        self.binaryMask = np.random.choice([0,1], size = self.layerSize,p = [self.p, 1.- self.p])\n",
    "        \n",
    "        # Return self.output as multiplication of binary mask\n",
    "        self.output = np.multiply(inputMatrix, self.binaryMask)\n",
    "        return self.output\n",
    "    \n",
    "    # Backward propagation for same iteration is reused\n",
    "    def backward(self, delta):\n",
    "    \n",
    "        # Using the created binary mask\n",
    "        deltaback = np.multiply(delta, self.binaryMask)\n",
    "        return deltaback\n",
    "    \n",
    "    def updateWeights(self, learnRate,\n",
    "                      regularize = \"none\", lambdaReg = 0.01,\n",
    "                      beta1 = 0.9, beta2 = 0.999, eps = 1e-8, t = 1):\n",
    "        \"\"\"Do nothing\"\"\"\n",
    "        \n",
    "        # Does nothing\n",
    "        return"
   ]
  },
  {
   "cell_type": "code",
   "execution_count": 288,
   "metadata": {
    "collapsed": false
   },
   "outputs": [],
   "source": [
    "class neuralNet(object):\n",
    "    \n",
    "    # Defining a neural net. To start, the object requires \n",
    "    \n",
    "    def __init__(self, layers, actFun = \"sigmoid\", weightInit = \"random\"):\n",
    "        \n",
    "        self.layers = []\n",
    "        \n",
    "        for layerDesc in layers:\n",
    "            \n",
    "            # Check for layer type and create layer\n",
    "            if(layerDesc[\"type\"] == \"linear\"):\n",
    "                # Layer creates linear combination\n",
    "                self.layers.append(linearLayer(layerSize=layerDesc[\"layerSize\"],\n",
    "                                                            numInputs=layerDesc[\"numInputs\"],\n",
    "                                                            weightInit=weightInit))\n",
    "                \n",
    "            elif(layerDesc[\"type\"] == \"activation\"):\n",
    "                # Create activation layer\n",
    "                self.layers.append(activationLayer(actFun=actFun))\n",
    "    \n",
    "            elif(layerDesc[\"type\"] == \"dropout\"):\n",
    "                # Create Dropout layer\n",
    "                self.layers.append(dropoutLayer(layerSize=layerDesc[\"layerSize\"],\n",
    "                                                              p=layerDesc[\"p\"]))\n",
    "            else:\n",
    "                \"Print unknown layer type\"\n",
    "        \n",
    "        # CV Error and Regularization loss initialization\n",
    "        self.cvError = None\n",
    "        self.regLoss= None\n",
    "        self.classAccuracy = None\n",
    "        \n",
    "    # Compute MSE on the input        \n",
    "    def computeError(self, inputs, outputs):\n",
    "        \n",
    "        predictions = self.predict(inputs)\n",
    "        numRows = inputs.shape[0]\n",
    "\n",
    "        # Calculate deltas and sum squares\n",
    "        delta = np.subtract(predictions,outputs)\n",
    "        totalError = np.sum(delta**2)/numRows\n",
    "        \n",
    "        preds = np.array([np.round(arr) for arr in predictions])\n",
    "        \n",
    "        # Calculate prediction accuracy\n",
    "        predClass = np.packbits(preds.astype(\"bool\"))\n",
    "        inClass = np.packbits(outputs.astype(\"bool\"))\n",
    "        \n",
    "        # Calculating class prediction accuracy\n",
    "        predAcc = [predClass[i] == inClass[i] for i in range(len(predClass))]\n",
    "        totalAcc = sum(predAcc)/np.float(len(predClass))\n",
    "        \n",
    "        return totalError, totalAcc\n",
    "    \n",
    "    # Calculate loss due to regularization\n",
    "    def computeRegularizationLoss(self, regularize, lambdaReg):\n",
    "        # Calculate layerWise sums and get total\n",
    "        regLossFunction  = regLookup[regularize]\n",
    "        linLayers = [layer for layer in self.layers if isinstance(layer,linearLayer)]\n",
    "        layerRegs = np.array([lambdaReg * regLossFunction(layer.weights) for layer in linLayers])\n",
    "        return(layerRegs.sum())        \n",
    "                \n",
    "    # Defining forward propagation operation\n",
    "    # Forward method of each layer is invoked\n",
    "    def predict(self, inputMatrix): \n",
    "         \n",
    "        \"\"\"Prediction given current layer weights and input matrix\"\"\"\n",
    "        \n",
    "        for layer in self.layers:\n",
    "            layerOut = layer.forward(inputMatrix)\n",
    "            inputMatrix = layerOut\n",
    "        \n",
    "        self.output = layerOut\n",
    "        return self.output\n",
    "    \n",
    "    # Defining the backprop operation\n",
    "    def backProp(self, numEpochs, batchSize, learnRate,\n",
    "                 trainInput, trainOutput, testInput,testOutput,\n",
    "                 showStep = 1000, stepError = 100,\n",
    "                 regularize = \"none\",lambdaReg = 0.01,\n",
    "                 beta1 = 0.9, beta2 = 0.999, eps = 1e-8):\n",
    "        \"\"\"Training algorithm for the neural net\"\"\"\n",
    "        \n",
    "        \n",
    "        if(not(isinstance(trainOutput,np.ndarray))):\n",
    "            trainOutput = np.array(trainOutput)\n",
    "        if(not(isinstance(trainInput,np.ndarray))):\n",
    "            trainInput = np.array(trainInput)\n",
    "        \n",
    "        rows, columns = trainInput.shape\n",
    "        \n",
    "        \n",
    "        # Initialize losses for the MSE and Regularization losses\n",
    "        self.cvError = np.zeros(numEpochs/stepError * 2).reshape(numEpochs/stepError,2)        \n",
    "        self.regLoss = np.zeros(numEpochs/stepError).reshape(numEpochs/stepError,1)\n",
    "        self.classAccuracy = np.zeros(numEpochs/stepError * 2).reshape(numEpochs/stepError,2)\n",
    "                \n",
    "        for i in range(numEpochs):\n",
    "            \n",
    "            # Run for a prespecified number of iterations\n",
    "            if((i + 1) % showStep == 0):\n",
    "                print i + 1\n",
    "                \n",
    "            if((i + 1) % stepError == 0):\n",
    "                \n",
    "                mseTrain, accTrain = self.computeError(trainInput, trainOutput)\n",
    "                mseTest, accTest = self.computeError(testInput, testOutput)\n",
    "                \n",
    "                self.cvError[((i + 1) / stepError)-1] = [mseTrain,mseTest]\n",
    "            \n",
    "                self.classAccuracy[((i + 1) / stepError)-1] = [accTrain,accTest]\n",
    "                \n",
    "                self.regLoss[((i + 1) / stepError)-1] = self.computeRegularizationLoss(regularize = regularize,\n",
    "                                                                                        lambdaReg = lambdaReg)\n",
    "                \n",
    "           # Pick a random sample from the trainInput and trainOutput\n",
    "            # Updated weights based on the same. Sample size is to be of size batchSize\n",
    "            \n",
    "            randomIndices = np.random.choice(range(rows),size=batchSize)\n",
    "            \n",
    "            # Sample from trainInput and trainOutput\n",
    "            batchTrain = trainInput[randomIndices,:].reshape(batchSize,columns)\n",
    "            batchTest = trainOutput[randomIndices,:]\n",
    "        \n",
    "            # A forward pass through the network\n",
    "            output = self.predict(batchTrain)\n",
    "            \n",
    "            # Iterate backwards through the layers to pass the deltas\n",
    "            delta = np.subtract(batchTest,output)\n",
    "            \n",
    "            for layer in self.layers[::-1]:\n",
    "                \n",
    "                # Delta to be passed to the previous layer is computed\n",
    "                delta = layer.backward(delta=delta)\n",
    "                # Update weights as determined by the delta gradient\n",
    "                layer.updateWeights(learnRate=learnRate, \n",
    "                                    regularize = regularize, lambdaReg = lambdaReg,\n",
    "                                    beta1 = beta1, beta2 = beta2, eps = eps, t = i + 1)"
   ]
  },
  {
   "cell_type": "code",
   "execution_count": 118,
   "metadata": {
    "collapsed": true
   },
   "outputs": [],
   "source": [
    "mdata = mn(path='../datasets/MNIST/')"
   ]
  },
  {
   "cell_type": "code",
   "execution_count": 119,
   "metadata": {
    "collapsed": true
   },
   "outputs": [],
   "source": [
    "images,labels = mdata.load_training()\n",
    "images = np.array(images)/255.\n",
    "labels = np.array(labels).reshape(60000,1).astype(dtype = 'uint8')\n",
    "labels = np.unpackbits(labels,axis=1)\n",
    "labels = labels[:,4:8]"
   ]
  },
  {
   "cell_type": "code",
   "execution_count": 120,
   "metadata": {
    "collapsed": true
   },
   "outputs": [],
   "source": [
    "sampleIndices = np.random.choice(range(len(images)),size=10000)"
   ]
  },
  {
   "cell_type": "code",
   "execution_count": 121,
   "metadata": {
    "collapsed": true
   },
   "outputs": [],
   "source": [
    "imageTrain = images[sampleIndices]"
   ]
  },
  {
   "cell_type": "code",
   "execution_count": 122,
   "metadata": {
    "collapsed": true
   },
   "outputs": [],
   "source": [
    "labelTrain = labels[sampleIndices]"
   ]
  },
  {
   "cell_type": "code",
   "execution_count": 123,
   "metadata": {
    "collapsed": true
   },
   "outputs": [],
   "source": [
    "testImages,testLabels = mdata.load_testing()\n",
    "testImages = np.array(testImages)/255.\n",
    "testLabelsDigit = np.array(testLabels).reshape(10000,1).astype(dtype = 'uint8')\n",
    "testLabels = np.unpackbits(testLabelsDigit,axis=1)\n",
    "testLabels = testLabels[:,4:8]"
   ]
  },
  {
   "cell_type": "code",
   "execution_count": 124,
   "metadata": {
    "collapsed": true
   },
   "outputs": [],
   "source": [
    "sampleTestIndices = np.random.choice(range(len(testImages)), 2000)"
   ]
  },
  {
   "cell_type": "code",
   "execution_count": 125,
   "metadata": {
    "collapsed": true
   },
   "outputs": [],
   "source": [
    "imageTest = testImages[sampleTestIndices]"
   ]
  },
  {
   "cell_type": "code",
   "execution_count": 126,
   "metadata": {
    "collapsed": true
   },
   "outputs": [],
   "source": [
    "labelTestDigit = testLabelsDigit[sampleTestIndices]\n",
    "labelTest = testLabels[sampleTestIndices]"
   ]
  },
  {
   "cell_type": "code",
   "execution_count": 136,
   "metadata": {
    "collapsed": true
   },
   "outputs": [],
   "source": [
    "dataMeans, dataSD = dataCenters(imageTrain)"
   ]
  },
  {
   "cell_type": "code",
   "execution_count": 148,
   "metadata": {
    "collapsed": false
   },
   "outputs": [],
   "source": [
    "# with np.errstate(divide='ignore', invalid = 'ignore'):    \n",
    "#     imageTrainCenter = (imageTrain - dataMeans)/dataSD\n",
    "#     imageTrainCenter[np.isnan(imageTrainCenter)] = 0"
   ]
  },
  {
   "cell_type": "code",
   "execution_count": 183,
   "metadata": {
    "collapsed": true
   },
   "outputs": [],
   "source": [
    "# with np.errstate(divide='ignore', invalid = 'ignore'):    \n",
    "#     imageTestCenter = (imageTest - dataMeans)/dataSD\n",
    "#     imageTestCenter[np.isnan(imageTestCenter)] = 0"
   ]
  },
  {
   "cell_type": "code",
   "execution_count": 426,
   "metadata": {
    "collapsed": false
   },
   "outputs": [],
   "source": [
    "nnet = neuralNet(layers = [{\"type\":\"linear\", \"numInputs\":784, \"layerSize\":800},\n",
    "                           {\"type\":\"activation\"},\n",
    "                           {\"type\":\"linear\", \"numInputs\":800, \"layerSize\":800},\n",
    "                           {\"type\":\"dropout\",\"layerSize\":800, \"p\":0.5},\n",
    "                           {\"type\":\"activation\"},\n",
    "                           {\"type\":\"linear\",\"numInputs\":800,\"layerSize\":4},\n",
    "                           {\"type\":\"activation\"}],\n",
    "          actFun = \"relu\",\n",
    "          weightInit = \"he.et.al\")"
   ]
  },
  {
   "cell_type": "code",
   "execution_count": 427,
   "metadata": {
    "collapsed": false,
    "scrolled": true
   },
   "outputs": [
    {
     "name": "stdout",
     "output_type": "stream",
     "text": [
      "1000\n",
      "2000\n",
      "3000\n",
      "4000\n",
      "5000\n"
     ]
    }
   ],
   "source": [
    "nnet.backProp(numEpochs = 5000, showStep=1000, stepError = 40,\n",
    "              batchSize = 10, learnRate = 5e-4, \n",
    "              trainInput = imageTrain, trainOutput = labelTrain, \n",
    "              testInput = imageTest, testOutput = labelTest,\n",
    "              regularize = \"none\",lambdaReg = 1e-5,\n",
    "              beta1 = 0.9, beta2 = 0.999, eps = 1e-8)"
   ]
  },
  {
   "cell_type": "code",
   "execution_count": 428,
   "metadata": {
    "collapsed": false
   },
   "outputs": [
    {
     "name": "stdout",
     "output_type": "stream",
     "text": [
      "Test Accuracy: [ 0.945]\n"
     ]
    }
   ],
   "source": [
    "# Compute accuracy of digit recognition\n",
    "preds = nnet.predict(imageTest)\n",
    "preds = np.array([np.round(arr) for arr in preds])\n",
    "preds = np.append(np.zeros(8000).reshape(2000,4),preds,axis=1)\n",
    "predDigits = np.packbits(preds.astype(\"bool\"))\n",
    "acc = [predDigits[i] == labelTestDigit[i] for i in range(2000)]\n",
    "print \"Test Accuracy: \" + str(sum(acc)/2000.)"
   ]
  },
  {
   "cell_type": "code",
   "execution_count": 429,
   "metadata": {
    "collapsed": false
   },
   "outputs": [
    {
     "name": "stdout",
     "output_type": "stream",
     "text": [
      "Train Accuracy: 0.9879\n"
     ]
    }
   ],
   "source": [
    "# Compute accuracy of digit recognition\n",
    "preds = nnet.predict(imageTrain)\n",
    "preds = np.array([np.round(arr) for arr in preds])\n",
    "preds = np.append(np.zeros(40000).reshape(10000,4),preds,axis=1)\n",
    "predDigits = np.packbits(preds.astype(\"bool\"))\n",
    "ac = np.append(np.zeros(40000).reshape(10000,4),labelTrain,axis=1)\n",
    "acDigits = np.packbits(ac.astype(\"bool\"))\n",
    "acc = [predDigits[i] == acDigits[i] for i in range(10000)]\n",
    "print \"Train Accuracy: \" + str(sum(acc)/10000.)"
   ]
  },
  {
   "cell_type": "code",
   "execution_count": 430,
   "metadata": {
    "collapsed": false
   },
   "outputs": [
    {
     "data": {
      "image/png": "[encoded data removed]",
      "text/plain": [
       "<matplotlib.figure.Figure at 0x7efd64db9250>"
      ]
     },
     "metadata": {},
     "output_type": "display_data"
    }
   ],
   "source": [
    "plt.plot(nnet.cvError[:,0],'r',label = 'train')\n",
    "plt.plot(nnet.cvError[:,1],'g',label = 'test')\n",
    "plt.legend(loc = 'upper left')\n",
    "plt.show()"
   ]
  },
  {
   "cell_type": "code",
   "execution_count": 431,
   "metadata": {
    "collapsed": false
   },
   "outputs": [
    {
     "data": {
      "image/png": "[encoded data removed]",
      "text/plain": [
       "<matplotlib.figure.Figure at 0x7efd64db9710>"
      ]
     },
     "metadata": {},
     "output_type": "display_data"
    }
   ],
   "source": [
    "plt.plot(nnet.regLoss[:,0],'r')\n",
    "plt.show()"
   ]
  },
  {
   "cell_type": "code",
   "execution_count": 432,
   "metadata": {
    "collapsed": false
   },
   "outputs": [
    {
     "data": {
      "image/png": "[encoded data removed]",
      "text/plain": [
       "<matplotlib.figure.Figure at 0x7efd6410bc10>"
      ]
     },
     "metadata": {},
     "output_type": "display_data"
    }
   ],
   "source": [
    "plt.plot(nnet.classAccuracy[:,0],'r',label = 'train')\n",
    "plt.plot(nnet.classAccuracy[:,1],'g',label = 'test')\n",
    "plt.legend(loc = 'upper left')\n",
    "plt.show()\n",
    "lrow, lcol = nnet.classAccuracy.shape\n",
    "lrow = lrow - 1\n",
    "lcol = lcol - 1"
   ]
  }
 ],
 "metadata": {
  "kernelspec": {
   "display_name": "Python 2",
   "language": "python",
   "name": "python2"
  },
  "language_info": {
   "codemirror_mode": {
    "name": "ipython",
    "version": 2
   },
   "file_extension": ".py",
   "mimetype": "text/x-python",
   "name": "python",
   "nbconvert_exporter": "python",
   "pygments_lexer": "ipython2",
   "version": "2.7.12"
  }
 },
 "nbformat": 4,
 "nbformat_minor": 2
}
