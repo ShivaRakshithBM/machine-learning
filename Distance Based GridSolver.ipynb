{
 "cells": [
  {
   "cell_type": "markdown",
   "metadata": {},
   "source": [
    "### Learning based on distance to target"
   ]
  },
  {
   "cell_type": "markdown",
   "metadata": {},
   "source": [
    "Defining a GridWorld object which takes the number of rows, columns and the Goal of the learner"
   ]
  },
  {
   "cell_type": "code",
   "execution_count": 86,
   "metadata": {
    "collapsed": true
   },
   "outputs": [],
   "source": [
    "from math import *"
   ]
  },
  {
   "cell_type": "code",
   "execution_count": 110,
   "metadata": {
    "collapsed": false
   },
   "outputs": [],
   "source": [
    "# Defining a gridworld object wievth the following properties\n",
    "# No. of rows, no. of columns\n",
    "# An array containing the location of any object in the grid\n",
    "\n",
    "class gridWorld():\n",
    "    \n",
    "    def __init__(self, nrow, ncol, targetLoc):\n",
    "        \n",
    "        self.nrow = nrow\n",
    "        self.ncol = ncol\n",
    "        self.target = targetLoc\n",
    "        self.grid = [[\"O\" for i in range(self.ncol)] for j in range(self.nrow)]\n",
    "        self.grid[targetLoc[0]][targetLoc[1]] = \"G\"\n",
    "        \n",
    "    def changeTarget(self, newTargetLoc):\n",
    "        \n",
    "        self.target = newTargetLoc\n",
    "        \n",
    "        for row in self.grid:\n",
    "            if \"G\" in row:\n",
    "                row[row.index(\"G\")] = \"O\"\n",
    "        self.grid[newTargetLoc[0]][newTargetLoc[1]] = \"G\"  "
   ]
  },
  {
   "cell_type": "markdown",
   "metadata": {},
   "source": [
    "Next, we define a Learner or gridSolver object that starts of a certain location in the grid and moves towards the goal"
   ]
  },
  {
   "cell_type": "code",
   "execution_count": 136,
   "metadata": {
    "collapsed": true
   },
   "outputs": [],
   "source": [
    "# Grid Solver knows only the starting location on the grid and the target location\n",
    "# It learns the location of the goal through a distance function\n",
    "# Every move it makes minimizes the distance to the target location \n",
    "\n",
    "class gridSolver():\n",
    "    \n",
    "    def __init__(self, nrow, ncol, startLocation):\n",
    "        self.location = startLocation\n",
    "        self.nrow = nrow\n",
    "        self.ncol = ncol\n",
    "    \n",
    "    def setNewLocation(self, newLocation):\n",
    "        self.location = newLocation\n",
    "    \n",
    "    def getCurrentLocation(self):\n",
    "        return self.location\n",
    "    \n",
    "    def setTargetLocation(self, targetLocation):\n",
    "        self.targetLocation = targetLocation\n",
    "        \n",
    "    def getNeighbours(self):\n",
    "        x,y = self.getCurrentLocation()\n",
    "        neighbours = []\n",
    "        increments = (1 , 0 , -1)\n",
    "        for changex in increments:\n",
    "            for changey in increments:\n",
    "                x1 = x + changex\n",
    "                y1 = y + changey\n",
    "                if((not((x1,y1) == (x,y)) and \n",
    "                   ((x1 >=0) & (x1 <= (self.nrow - 1))) and\n",
    "                   ((y1 >= 0) & (y1 <= (self.ncol - 1))))):\n",
    "                    neighbours.append((x1,y1))\n",
    "        return(neighbours)\n",
    "    \n",
    "    def getDistanceToTarget(self, currentLocation, targetLocation):\n",
    "        # Computes distance to target from currentlocation (euclidean)\n",
    "        xdiff = currentLocation[0] - targetLocation[0]\n",
    "        ydiff = currentLocation[1] - targetLocation[1]\n",
    "        \n",
    "        distanceBetween = sqrt(pow(xdiff,2) + pow(ydiff,2))\n",
    "        \n",
    "        return(distanceBetween)\n",
    "    \n",
    "        \n",
    "    def chooseMove(self, targetLocation):\n",
    "        # Evalute neighbouring locations\n",
    "        currentDistance = self.getDistanceToTarget(self.location,targetLocation)\n",
    "        neighbours = self.getNeighbours() \n",
    "        for neighbour in neighbours:\n",
    "            neighbourDistance = self.getDistanceToTarget(neighbour, targetLocation)\n",
    "            if(neighbourDistance < currentDistance):\n",
    "                bestMove = neighbour\n",
    "                currentDistance = neighbourDistance\n",
    "                \n",
    "        return(bestMove)\n",
    "\n",
    "    def reachTarget(self, targetLocation):\n",
    "        # Continuously look for target and move forward\n",
    "        if(not(self.location == targetLocation)):\n",
    "            print(self.location)\n",
    "            self.location = self.chooseMove(targetLocation)\n",
    "            self.reachTarget(targetLocation)\n",
    "        else:\n",
    "            print \"Target Reached\"\n",
    "            return\n",
    "        "
   ]
  },
  {
   "cell_type": "markdown",
   "metadata": {},
   "source": [
    "Here, we initialize a new grid and a grid solver and tell the gridsolver to reach its destination"
   ]
  },
  {
   "cell_type": "code",
   "execution_count": 137,
   "metadata": {
    "collapsed": false
   },
   "outputs": [],
   "source": [
    "# New grid with 100 rows and target at 0,0\n",
    "myGrid = gridWorld(ncol= 10, nrow = 10,targetLoc=(0,0))\n",
    "\n",
    "# Initialize new grid solver with the information from the gridWorld object\n",
    "newGridSolver = gridSolver(myGrid.ncol, myGrid.nrow, (8,9))\n",
    "newGridSolver.setTargetLocation(myGrid.target)"
   ]
  },
  {
   "cell_type": "code",
   "execution_count": 138,
   "metadata": {
    "collapsed": false,
    "scrolled": true
   },
   "outputs": [
    {
     "name": "stdout",
     "output_type": "stream",
     "text": [
      "(8, 9)\n",
      "(7, 8)\n",
      "(6, 7)\n",
      "(5, 6)\n",
      "(4, 5)\n",
      "(3, 4)\n",
      "(2, 3)\n",
      "(1, 2)\n",
      "(0, 1)\n",
      "Target Reached\n"
     ]
    }
   ],
   "source": [
    "# Initialize GridSolver movement\n",
    "newGridSolver.reachTarget(newGridSolver.targetLocation)"
   ]
  },
  {
   "cell_type": "code",
   "execution_count": 140,
   "metadata": {
    "collapsed": false
   },
   "outputs": [],
   "source": [
    "newGridSolver.setNewLocation((5,9))"
   ]
  },
  {
   "cell_type": "code",
   "execution_count": 141,
   "metadata": {
    "collapsed": false
   },
   "outputs": [
    {
     "name": "stdout",
     "output_type": "stream",
     "text": [
      "(5, 9)\n",
      "(4, 8)\n",
      "(3, 7)\n",
      "(2, 6)\n",
      "(1, 5)\n",
      "(0, 4)\n",
      "(0, 3)\n",
      "(0, 2)\n",
      "(0, 1)\n",
      "Target Reached\n"
     ]
    }
   ],
   "source": [
    "newGridSolver.reachTarget(newGridSolver.targetLocation)"
   ]
  }
 ],
 "metadata": {
  "kernelspec": {
   "display_name": "Python 2",
   "language": "python2",
   "name": "python2"
  },
  "language_info": {
   "codemirror_mode": {
    "name": "ipython",
    "version": 2
   },
   "file_extension": ".py",
   "mimetype": "text/x-python",
   "name": "python",
   "nbconvert_exporter": "python",
   "pygments_lexer": "ipython2",
   "version": "2.7.12"
  }
 },
 "nbformat": 4,
 "nbformat_minor": 0
}
